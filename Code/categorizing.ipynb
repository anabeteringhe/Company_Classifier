{
 "cells": [
  {
   "cell_type": "code",
   "execution_count": 9,
   "metadata": {},
   "outputs": [],
   "source": [
    "from sklearn.feature_extraction.text import TfidfVectorizer\n",
    "from sklearn.metrics.pairwise import cosine_similarity\n",
    "import numpy as np\n",
    "import pandas as pd\n",
    "import spacy"
   ]
  },
  {
   "cell_type": "code",
   "execution_count": 10,
   "metadata": {},
   "outputs": [],
   "source": [
    "data = pd.read_csv('../CSV/preped_data.csv')\n",
    "\n",
    "labels = pd.read_csv('../CSV/labels.csv')\n"
   ]
  },
  {
   "cell_type": "code",
   "execution_count": 11,
   "metadata": {},
   "outputs": [
    {
     "data": {
      "text/plain": [
       "(9494, 5)"
      ]
     },
     "execution_count": 11,
     "metadata": {},
     "output_type": "execute_result"
    }
   ],
   "source": [
    "data.shape"
   ]
  },
  {
   "cell_type": "code",
   "execution_count": 12,
   "metadata": {},
   "outputs": [
    {
     "data": {
      "text/plain": [
       "(220, 1)"
      ]
     },
     "execution_count": 12,
     "metadata": {},
     "output_type": "execute_result"
    }
   ],
   "source": [
    "labels.shape"
   ]
  },
  {
   "cell_type": "code",
   "execution_count": null,
   "metadata": {},
   "outputs": [
    {
     "name": "stdout",
     "output_type": "stream",
     "text": [
      "[[0.         0.         0.         ... 0.         0.         0.        ]\n",
      " [0.         0.         0.         ... 0.         0.         0.        ]\n",
      " [0.         0.         0.         ... 0.         0.         0.        ]\n",
      " ...\n",
      " [0.         0.         0.         ... 0.         0.         0.        ]\n",
      " [0.         0.04611156 0.05697195 ... 0.         0.         0.        ]\n",
      " [0.         0.         0.         ... 0.         0.         0.        ]]\n"
     ]
    },
    {
     "data": {
      "text/plain": [
       "(9494, 220)"
      ]
     },
     "execution_count": 13,
     "metadata": {},
     "output_type": "execute_result"
    }
   ],
   "source": [
    "# labels_list = labels['label'].tolist()\n",
    "\n",
    "# # Initialize the TfidfVectorizer\n",
    "# vectorizer = TfidfVectorizer()\n",
    "\n",
    "# tfidf_data = vectorizer.fit_transform(data['description'])\n",
    "\n",
    "# tfidf_labels = vectorizer.transform(labels_list)\n",
    "\n",
    "# # Compute the cosine similarity\n",
    "# cosine_similarities = cosine_similarity(tfidf_data, tfidf_labels)\n",
    "\n",
    "# # Display the cosine similarities\n",
    "# print(cosine_similarities)\n",
    "# cosine_similarities.shape"
   ]
  },
  {
   "cell_type": "code",
   "execution_count": null,
   "metadata": {},
   "outputs": [],
   "source": [
    "# nlp = spacy.load('en_core_web_md')\n",
    "# docs = [nlp(description) for description in data['description']]"
   ]
  },
  {
   "cell_type": "code",
   "execution_count": null,
   "metadata": {},
   "outputs": [
    {
     "name": "stdout",
     "output_type": "stream",
     "text": [
      "[-6.69714570e-01  2.89183140e-01 -1.34230644e-01 -1.07601419e-01\n",
      "  1.55223235e-01 -8.34844541e-03  1.10437330e-02 -3.01780492e-01\n",
      "  1.27819136e-01  9.44961488e-01 -4.98957634e-01  1.04349755e-01\n",
      " -9.14178342e-02  2.08365664e-01 -3.44270021e-02  3.11811175e-02\n",
      " -3.77602965e-01  1.69215250e+00 -3.57940108e-01  2.58269478e-02\n",
      " -9.43277180e-02  2.21294641e-01 -2.41981000e-01 -3.28657299e-01\n",
      " -4.19721343e-02 -3.31036896e-01  1.87251300e-01  1.17276706e-01\n",
      "  2.38017470e-01  3.03959697e-01 -8.46827999e-02 -1.42785966e-01\n",
      "  2.88465023e-01  1.25647271e-02  2.23832175e-01  1.15152234e-02\n",
      "  5.47494963e-02 -4.57159765e-02  3.17437574e-02  4.76549566e-03\n",
      "  8.27973187e-02  8.64857510e-02  2.50115514e-01  2.50117127e-02\n",
      "  2.20208019e-02 -2.72662878e-01  6.72957525e-02  2.81449199e-01\n",
      " -1.05678797e-01 -1.24096218e-02 -8.07646811e-02  2.89135158e-01\n",
      "  1.02916285e-01 -1.24337777e-01 -5.80555946e-02 -9.76401120e-02\n",
      " -4.75344732e-02  1.93393677e-01  1.41609341e-01 -1.49179548e-01\n",
      " -1.96196616e-01 -1.24611162e-01  2.59223461e-01  2.79189982e-02\n",
      "  3.24567765e-01  1.54984400e-01  2.08684415e-01 -8.19856077e-02\n",
      " -7.43428543e-02 -8.06492418e-02 -7.69201724e-04  2.41449997e-01\n",
      " -2.17809528e-02 -9.63877439e-02  4.21181113e-01  5.07327855e-01\n",
      " -1.91441149e-01  2.79997475e-03  2.56868213e-01  3.14386368e-01\n",
      " -1.34282783e-01  1.29634053e-01  6.25941753e-02  1.20469294e-01\n",
      "  1.50171787e-01 -1.96680296e-02  5.46917319e-01 -6.97729528e-01\n",
      "  1.12260967e-01  6.58221869e-03 -2.63404489e-01  8.53457525e-02\n",
      " -2.84211105e-03 -2.34693840e-01 -1.87561825e-01 -3.16375941e-01\n",
      " -1.02212794e-01  2.98860800e-02  1.77791432e-01  2.97766272e-02\n",
      " -8.53879899e-02  3.87387238e-02  1.75876290e-01 -2.78518740e-02\n",
      "  2.27517530e-01 -4.63792384e-02  2.06589982e-01  4.06890810e-02\n",
      " -2.10337594e-01  1.45419791e-01 -2.26865441e-01 -4.25377756e-01\n",
      "  9.76557955e-02 -2.67534312e-02 -2.05058511e-02  2.12850779e-01\n",
      "  5.78470528e-02 -1.93146616e-01 -1.31385267e-01 -2.21721843e-01\n",
      "  6.81883246e-02 -8.54622852e-03 -1.13090649e-01 -2.57620126e-01\n",
      " -2.46887341e-01  3.17768306e-02  1.07582636e-01 -1.10492826e-01\n",
      " -2.30277210e-01 -1.95385292e-01  1.35221511e-01  4.67363924e-01\n",
      " -2.08263639e-02  2.57310539e-01  2.26133227e-01 -1.74926728e-01\n",
      " -8.70444179e-02 -1.70464113e-01 -9.06882882e-02 -4.87361327e-02\n",
      " -1.06065834e+00  9.30064172e-02  2.54271120e-01 -3.97624038e-02\n",
      "  1.14013113e-01 -1.11690857e-01  1.02144159e-01  6.30144477e-02\n",
      " -2.92333104e-02  1.55672178e-01  2.32727319e-01  2.79555947e-01\n",
      " -8.88830200e-02 -5.03927954e-02  1.30367219e-01 -3.02222580e-01\n",
      " -1.53100595e-01  2.66741604e-01  2.63007581e-01 -2.38415226e-01\n",
      "  1.97671670e-02 -5.28900623e-02  7.38099366e-02 -1.10565662e-01\n",
      " -3.69978786e-01 -1.72454849e-01 -5.54121956e-02 -9.05436575e-02\n",
      " -1.93399817e-01  1.76961571e-01  7.92167187e-02  5.24979876e-03\n",
      " -2.04020992e-01  2.31152587e-02  1.80608891e-02  9.81823057e-02\n",
      "  3.34109932e-01  1.11981429e-01  3.45749706e-02 -3.50508749e-01\n",
      "  1.62342742e-01 -4.22976345e-01 -2.49519825e-01 -1.83968902e-01\n",
      " -6.59690559e-01  1.83005661e-01 -3.18444252e-01  1.10954188e-01\n",
      "  6.85264990e-02  1.93522036e-01 -6.01201616e-02  6.88724080e-03\n",
      " -1.45602092e-01  3.92830580e-01  2.90076196e-01 -1.33369952e-01\n",
      "  2.40497187e-01 -4.52362806e-01 -2.21842244e-01  2.07229391e-01\n",
      "  1.47376344e-01 -5.93205392e-01  4.19673622e-02  1.70558557e-01\n",
      " -2.59612918e-01 -1.90050989e-01 -1.22056626e-01  1.24819934e-01\n",
      "  1.51015252e-01 -1.07593704e-02  9.26240906e-02 -1.63565516e-01\n",
      "  3.44359726e-01 -1.16104215e-01 -9.88525227e-02 -9.65903997e-02\n",
      "  1.31640658e-01 -6.39568567e-02 -5.75019956e-01 -5.42342328e-02\n",
      "  1.73154399e-01  2.28540570e-01 -5.48311770e-02 -9.78566008e-04\n",
      " -2.96067167e-03  4.55568396e-02 -3.56932431e-02  4.69065979e-02\n",
      "  1.65825188e-01  1.28833549e-02 -8.75954796e-03 -3.71625811e-01\n",
      "  2.98877656e-01 -1.46782741e-01  3.62828895e-02 -1.06492862e-01\n",
      "  2.52002794e-02 -1.69683751e-02 -1.09629393e-01 -5.01520745e-02\n",
      " -1.28941536e-01 -2.36621723e-01  2.56339856e-03  1.28807932e-01\n",
      " -1.67993709e-01 -1.73016071e-01 -1.87241528e-02 -3.39527428e-01\n",
      " -1.54161811e-01 -6.10670745e-02  1.03637360e-01  1.26293197e-01\n",
      "  1.71326667e-01 -3.27364445e-01 -1.05357811e-01  4.80659425e-01\n",
      " -6.99784160e-02 -8.47260281e-02 -5.27470671e-02  1.58141553e-01\n",
      " -7.81258643e-02  9.50292423e-02  2.59648651e-01  2.53528386e-01\n",
      "  2.60052949e-01 -3.25579852e-01  1.26524493e-01  5.34028187e-02\n",
      "  7.66516566e-01 -7.92705268e-02 -2.10296974e-01  1.39287785e-01\n",
      " -2.62022428e-02 -1.41344815e-01 -3.23101990e-02 -7.59437447e-03\n",
      "  4.51266691e-02 -1.12960771e-01 -3.14515263e-01  2.07168624e-01\n",
      " -1.22917004e-01 -1.11799128e-02  8.08515921e-02 -9.77189019e-02\n",
      "  1.84284598e-01  4.37635481e-02 -2.35073231e-02 -1.05489656e-01\n",
      "  4.38908815e-01  2.27475300e-01  3.17632765e-01  1.38396427e-01\n",
      " -1.54712439e-01 -4.55448823e-03  2.04456821e-02  9.44339186e-02\n",
      " -7.50911888e-04 -6.50978014e-02 -2.33959347e-01  8.29764530e-02]\n"
     ]
    }
   ],
   "source": [
    "# print(docs[0].vector)\n"
   ]
  },
  {
   "cell_type": "code",
   "execution_count": null,
   "metadata": {},
   "outputs": [
    {
     "ename": "KeyboardInterrupt",
     "evalue": "",
     "output_type": "error",
     "traceback": [
      "\u001b[1;31m---------------------------------------------------------------------------\u001b[0m",
      "\u001b[1;31mKeyboardInterrupt\u001b[0m                         Traceback (most recent call last)",
      "Cell \u001b[1;32mIn[16], line 5\u001b[0m\n\u001b[0;32m      3\u001b[0m     row\u001b[38;5;241m=\u001b[39m[]\n\u001b[0;32m      4\u001b[0m     \u001b[38;5;28;01mfor\u001b[39;00m j \u001b[38;5;129;01min\u001b[39;00m \u001b[38;5;28mrange\u001b[39m(\u001b[38;5;28mlen\u001b[39m(labels_list)):\n\u001b[1;32m----> 5\u001b[0m         row\u001b[38;5;241m.\u001b[39mappend(docs[i]\u001b[38;5;241m.\u001b[39msimilarity(nlp(labels_list[j])))\n\u001b[0;32m      6\u001b[0m     similarity\u001b[38;5;241m.\u001b[39mappend(docs[i]\u001b[38;5;241m.\u001b[39msimilarity(nlp(labels_list[\u001b[38;5;241m0\u001b[39m])))\n\u001b[0;32m      7\u001b[0m \u001b[38;5;28mprint\u001b[39m(similarity)\n",
      "File \u001b[1;32mc:\\Users\\anama_1lv\\anaconda3\\Lib\\site-packages\\spacy\\language.py:1052\u001b[0m, in \u001b[0;36mLanguage.__call__\u001b[1;34m(self, text, disable, component_cfg)\u001b[0m\n\u001b[0;32m   1050\u001b[0m     error_handler \u001b[38;5;241m=\u001b[39m proc\u001b[38;5;241m.\u001b[39mget_error_handler()\n\u001b[0;32m   1051\u001b[0m \u001b[38;5;28;01mtry\u001b[39;00m:\n\u001b[1;32m-> 1052\u001b[0m     doc \u001b[38;5;241m=\u001b[39m proc(doc, \u001b[38;5;241m*\u001b[39m\u001b[38;5;241m*\u001b[39mcomponent_cfg\u001b[38;5;241m.\u001b[39mget(name, {}))  \u001b[38;5;66;03m# type: ignore[call-arg]\u001b[39;00m\n\u001b[0;32m   1053\u001b[0m \u001b[38;5;28;01mexcept\u001b[39;00m \u001b[38;5;167;01mKeyError\u001b[39;00m \u001b[38;5;28;01mas\u001b[39;00m e:\n\u001b[0;32m   1054\u001b[0m     \u001b[38;5;66;03m# This typically happens if a component is not initialized\u001b[39;00m\n\u001b[0;32m   1055\u001b[0m     \u001b[38;5;28;01mraise\u001b[39;00m \u001b[38;5;167;01mValueError\u001b[39;00m(Errors\u001b[38;5;241m.\u001b[39mE109\u001b[38;5;241m.\u001b[39mformat(name\u001b[38;5;241m=\u001b[39mname)) \u001b[38;5;28;01mfrom\u001b[39;00m \u001b[38;5;21;01me\u001b[39;00m\n",
      "\u001b[1;31mKeyboardInterrupt\u001b[0m: "
     ]
    }
   ],
   "source": [
    "# similarity=[]\n",
    "# for i in range(len(docs)):\n",
    "#     row=[]\n",
    "#     for j in range(len(labels_list)):\n",
    "#         row.append(docs[i].similarity(nlp(labels_list[j])))\n",
    "#     similarity.append(docs[i].similarity(nlp(labels_list[0])))\n",
    "# print(similarity)\n",
    "# print(len(similarity))"
   ]
  },
  {
   "cell_type": "code",
   "execution_count": null,
   "metadata": {},
   "outputs": [],
   "source": []
  }
 ],
 "metadata": {
  "kernelspec": {
   "display_name": "base",
   "language": "python",
   "name": "python3"
  },
  "language_info": {
   "codemirror_mode": {
    "name": "ipython",
    "version": 3
   },
   "file_extension": ".py",
   "mimetype": "text/x-python",
   "name": "python",
   "nbconvert_exporter": "python",
   "pygments_lexer": "ipython3",
   "version": "3.12.7"
  }
 },
 "nbformat": 4,
 "nbformat_minor": 2
}

{
 "cells": [
  {
   "cell_type": "markdown",
   "metadata": {},
   "source": [
    "Model Name: sentence-transformers/msmarco-MiniLM-L6-cos-v5"
   ]
  },
  {
   "cell_type": "code",
   "execution_count": 10,
   "metadata": {},
   "outputs": [],
   "source": [
    "from sklearn.metrics.pairwise import cosine_similarity\n",
    "import numpy as np\n",
    "import pandas as pd\n",
    "from sentence_transformers import SentenceTransformer"
   ]
  },
  {
   "cell_type": "code",
   "execution_count": 11,
   "metadata": {},
   "outputs": [],
   "source": [
    "data = pd.read_csv('../CSV/preped_data.csv')\n",
    "\n",
    "labels = pd.read_csv('../CSV/labels.csv')"
   ]
  },
  {
   "cell_type": "code",
   "execution_count": 12,
   "metadata": {},
   "outputs": [
    {
     "data": {
      "text/plain": [
       "(9494, 12)"
      ]
     },
     "execution_count": 12,
     "metadata": {},
     "output_type": "execute_result"
    }
   ],
   "source": [
    "data.shape"
   ]
  },
  {
   "cell_type": "code",
   "execution_count": 13,
   "metadata": {},
   "outputs": [
    {
     "data": {
      "text/plain": [
       "(220, 1)"
      ]
     },
     "execution_count": 13,
     "metadata": {},
     "output_type": "execute_result"
    }
   ],
   "source": [
    "labels.shape"
   ]
  },
  {
   "cell_type": "code",
   "execution_count": 14,
   "metadata": {},
   "outputs": [],
   "source": [
    "model = SentenceTransformer(\"sentence-transformers/msmarco-MiniLM-L6-cos-v5\")"
   ]
  },
  {
   "cell_type": "code",
   "execution_count": 15,
   "metadata": {},
   "outputs": [],
   "source": [
    "#3 min\n",
    "data['d_embendding'] = data['description'].apply(lambda x: model.encode(x)if isinstance(x, str) else None)\n",
    "data['b_embendding'] = data['business_tags'].apply(lambda x: model.encode(x) if isinstance(x, str) else None)"
   ]
  },
  {
   "cell_type": "code",
   "execution_count": 16,
   "metadata": {},
   "outputs": [],
   "source": [
    "labels['l_embendding'] = labels['label'].apply(lambda x: model.encode(x) if isinstance(x, str) else None)"
   ]
  },
  {
   "cell_type": "code",
   "execution_count": 17,
   "metadata": {},
   "outputs": [],
   "source": [
    "description_similarity = []\n",
    "business_tags_similarity = []"
   ]
  },
  {
   "cell_type": "code",
   "execution_count": 18,
   "metadata": {},
   "outputs": [
    {
     "name": "stderr",
     "output_type": "stream",
     "text": [
      "c:\\Users\\anama_1lv\\anaconda3\\Lib\\site-packages\\sentence_transformers\\util.py:44: UserWarning: Creating a tensor from a list of numpy.ndarrays is extremely slow. Please consider converting the list to a single numpy.ndarray with numpy.array() before converting to a tensor. (Triggered internally at C:\\actions-runner\\_work\\pytorch\\pytorch\\pytorch\\torch\\csrc\\utils\\tensor_new.cpp:257.)\n",
      "  a = torch.tensor(a)\n"
     ]
    }
   ],
   "source": [
    "for i in range(data.shape[0]):\n",
    "    if data['d_embendding'][i] is not None:\n",
    "        description_similarity.append(model.similarity([data['d_embendding'][i]], labels['l_embendding'].tolist())[0])\n",
    "    else:\n",
    "        description_similarity.append([0] * len(labels))\n",
    "    if data['b_embendding'][i] is not None:\n",
    "        business_tags_similarity.append(model.similarity([data['b_embendding'][i]], labels['l_embendding'].tolist())[0])\n",
    "    else:\n",
    "        business_tags_similarity.append([0] * len(labels))"
   ]
  },
  {
   "cell_type": "code",
   "execution_count": 19,
   "metadata": {},
   "outputs": [],
   "source": [
    "similarities = (np.array(description_similarity) + np.array(business_tags_similarity)) / 2"
   ]
  },
  {
   "cell_type": "code",
   "execution_count": 20,
   "metadata": {},
   "outputs": [],
   "source": [
    "def get_top_labels(similarities, labels, top_n=3):\n",
    "    top_indices = np.argsort(similarities, axis=1)[:, -top_n:][:, ::-1]\n",
    "    top_labels = [[labels[i] for i in indices] for indices in top_indices]\n",
    "    top_labels_with_scores = [[(labels[i], similarities[row_idx, i]) for i in indices] for row_idx, indices in enumerate(top_indices)]\n",
    "    return top_labels_with_scores"
   ]
  },
  {
   "cell_type": "code",
   "execution_count": 21,
   "metadata": {},
   "outputs": [],
   "source": [
    "similarities_array = np.vstack(similarities[:data.shape[0]])"
   ]
  },
  {
   "cell_type": "code",
   "execution_count": 22,
   "metadata": {},
   "outputs": [],
   "source": [
    "data['top_labels'] = get_top_labels(similarities_array, labels['label'].tolist(), top_n=3)"
   ]
  },
  {
   "cell_type": "code",
   "execution_count": 23,
   "metadata": {},
   "outputs": [],
   "source": [
    "data[['description', 'business_tags', 'top_labels']].to_csv('../CSV/labelled_data_asymetric.csv', index=False)"
   ]
  }
 ],
 "metadata": {
  "kernelspec": {
   "display_name": "base",
   "language": "python",
   "name": "python3"
  },
  "language_info": {
   "codemirror_mode": {
    "name": "ipython",
    "version": 3
   },
   "file_extension": ".py",
   "mimetype": "text/x-python",
   "name": "python",
   "nbconvert_exporter": "python",
   "pygments_lexer": "ipython3",
   "version": "3.12.7"
  }
 },
 "nbformat": 4,
 "nbformat_minor": 2
}

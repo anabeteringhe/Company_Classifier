{
 "cells": [
  {
   "cell_type": "code",
   "execution_count": 2,
   "metadata": {},
   "outputs": [],
   "source": [
    "from sklearn.metrics.pairwise import cosine_similarity\n",
    "import numpy as np\n",
    "import pandas as pd\n",
    "from sklearn.metrics.pairwise import cosine_similarity\n",
    "from gensim.models.doc2vec import Doc2Vec\n",
    "from gensim.models.doc2vec import TaggedDocument\n",
    "from nltk.tokenize import word_tokenize\n",
    "import nltk\n"
   ]
  },
  {
   "cell_type": "code",
   "execution_count": 3,
   "metadata": {},
   "outputs": [],
   "source": [
    "data = pd.read_csv('../CSV/preped_data.csv')\n",
    "\n",
    "labels = pd.read_csv('../CSV/labels.csv')\n"
   ]
  },
  {
   "cell_type": "code",
   "execution_count": 4,
   "metadata": {},
   "outputs": [
    {
     "data": {
      "text/plain": [
       "(9494, 5)"
      ]
     },
     "execution_count": 4,
     "metadata": {},
     "output_type": "execute_result"
    }
   ],
   "source": [
    "data.shape"
   ]
  },
  {
   "cell_type": "code",
   "execution_count": 5,
   "metadata": {},
   "outputs": [
    {
     "data": {
      "text/plain": [
       "(220, 1)"
      ]
     },
     "execution_count": 5,
     "metadata": {},
     "output_type": "execute_result"
    }
   ],
   "source": [
    "labels.shape"
   ]
  },
  {
   "cell_type": "code",
   "execution_count": 6,
   "metadata": {},
   "outputs": [],
   "source": [
    "\n",
    "data['merged'] = data['description'].fillna('') + ' ' + data['business_tags'].fillna('') + ' ' + data['sector'].fillna('') + ' ' + data['category'].fillna('') + ' ' + data['niche'].fillna('')\n",
    "\n",
    "datas = [TaggedDocument(words = word_tokenize(text), tags = [str(i)]) for i, text in enumerate(data['merged'])]\n",
    "\n",
    "model = Doc2Vec(datas, vector_size = 4500, window = 5, min_count = 2, workers = 4, dm=0)"
   ]
  },
  {
   "cell_type": "code",
   "execution_count": 7,
   "metadata": {},
   "outputs": [],
   "source": [
    "data['embedding'] = data['merged'].apply(lambda x: model.infer_vector(word_tokenize(x)))\n",
    "\n",
    "labels['embedding'] = labels['label'].apply(lambda x: model.infer_vector(word_tokenize(x)))"
   ]
  },
  {
   "cell_type": "code",
   "execution_count": 8,
   "metadata": {},
   "outputs": [],
   "source": [
    "data_embeddings = list(data['embedding'])\n",
    "label_embeddings = list(labels['embedding'])\n",
    "\n",
    "cosine_similarities = cosine_similarity(data_embeddings, label_embeddings)"
   ]
  },
  {
   "cell_type": "code",
   "execution_count": 9,
   "metadata": {},
   "outputs": [],
   "source": [
    "def get_top_labels(similarities, labels, top_n=3):\n",
    "    top_indices = similarities.argsort()[:, -top_n:][:, ::-1]\n",
    "    top_labels = [[labels[i] for i in indices] for indices in top_indices]\n",
    "    top_labels_with_scores = [[(labels[i], similarities[row_idx, i]) for i in indices] for row_idx, indices in enumerate(top_indices)]\n",
    "    return top_labels_with_scores\n",
    "\n",
    "data['top_labels'] = get_top_labels(cosine_similarities, labels['label'])\n",
    "\n",
    "# Display the results\n",
    "output_path = 'c:/Users/anama_1lv/Desktop/Veridion/Company_Classifier/CSV/company_top_labels_dbow.csv'\n",
    "data[['description', 'business_tags', 'sector', 'category', 'niche', 'top_labels']].to_csv(output_path, index=False)"
   ]
  }
 ],
 "metadata": {
  "kernelspec": {
   "display_name": "base",
   "language": "python",
   "name": "python3"
  },
  "language_info": {
   "codemirror_mode": {
    "name": "ipython",
    "version": 3
   },
   "file_extension": ".py",
   "mimetype": "text/x-python",
   "name": "python",
   "nbconvert_exporter": "python",
   "pygments_lexer": "ipython3",
   "version": "3.12.7"
  }
 },
 "nbformat": 4,
 "nbformat_minor": 2
}
